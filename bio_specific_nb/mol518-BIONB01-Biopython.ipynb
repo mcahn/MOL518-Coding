{
 "cells": [
  {
   "cell_type": "markdown",
   "metadata": {},
   "source": [
    "# MOL518: Bio Notebook 01\n",
    "\n",
    "## Biopython Library"
   ]
  },
  {
   "cell_type": "markdown",
   "metadata": {},
   "source": [
    "### 1. Seq and SeqRecord\n",
    "\n",
    "##### Compute an amino acid distribution using a dictionary"
   ]
  },
  {
   "cell_type": "code",
   "execution_count": null,
   "metadata": {},
   "outputs": [],
   "source": [
    "from Bio import SeqIO\n",
    "\n",
    "filename = 'Human_proteome.fasta'\n",
    "\n",
    "# Create an empty dictionary.\n",
    "# The keys will be the amino acid abbreviations.\n",
    "# The values will be the count of each amino acid, for example:\n",
    "# {'A': 1691536, 'K': 1367809, ...}\n",
    "\n",
    "aaCounts = {}\n",
    "\n",
    "for record in SeqIO.parse(filename, 'fasta'):        \n",
    "    for aa in record.seq:                   # Look through each letter in the string \"line\"\n",
    "        if aa in aaCounts:                  # If the amino acid is already in the dictionary\n",
    "            aaCounts[aa] = aaCounts[aa] + 1 # Increment the count by 1\n",
    "        else:                               # If the amino acid is not yet in the dictionary.\n",
    "            aaCounts[aa] = 1                # Then this is the first one.\n",
    "    \n",
    "print('Found {} different amino acids.'.format(len(aaCounts)))"
   ]
  },
  {
   "cell_type": "markdown",
   "metadata": {},
   "source": [
    "##### Lets look at a record object"
   ]
  },
  {
   "cell_type": "code",
   "execution_count": null,
   "metadata": {},
   "outputs": [],
   "source": [
    "# Print a record object\n",
    "print(record)"
   ]
  },
  {
   "cell_type": "code",
   "execution_count": null,
   "metadata": {},
   "outputs": [],
   "source": [
    "# Print all the methods and attributes\n",
    "print(dir(record))"
   ]
  },
  {
   "cell_type": "markdown",
   "metadata": {},
   "source": [
    "### 2. Pairwise Alignment of Sequences"
   ]
  },
  {
   "cell_type": "markdown",
   "metadata": {},
   "source": [
    "##### Read 2 proteom files and align the first 2 genes and print alignment percentage."
   ]
  },
  {
   "cell_type": "code",
   "execution_count": 72,
   "metadata": {},
   "outputs": [
    {
     "name": "stdout",
     "output_type": "stream",
     "text": [
      "Percentage identity: 32.55%\n"
     ]
    }
   ],
   "source": [
    "from Bio import SeqIO\n",
    "from Bio import Align\n",
    "\n",
    "human_filename = 'Human_proteome.fasta'\n",
    "dros_filename = 'Drosophila_proteome.faa'\n",
    "\n",
    "# Create 2 empty dictionaries to hold the human and drosophila sequences\n",
    "# The keys will be the sequence identifiers.\n",
    "# The values will be the sequence.\n",
    "# {'AAF45346.2': 'MEHSDPVPYQQLSTLS...', 'AAF45368.1': 'MNILRRLDRLIAP...', ...}\n",
    "\n",
    "human_seqs = {}\n",
    "dros_seqs = {}\n",
    "for record in SeqIO.parse(human_filename, 'fasta'):\n",
    "    human_seqs[record.id] = record.seq\n",
    "for record in SeqIO.parse(dros_filename, 'fasta'):\n",
    "    dros_seqs[record.id] = record.seq\n",
    "\n",
    "human_item = next(iter(human_seqs.items()))\n",
    "dros_item = next(iter(dros_seqs.items()))\n",
    "\n",
    "# Perform global alignment\n",
    "aligner = Align.PairwiseAligner()\n",
    "alignments = aligner.align(human_item[1], dros_item[1])\n",
    "\n",
    "# Get the best alignment (highest score)\n",
    "best_alignment = alignments[0]\n",
    "\n",
    "# Calculate the number of aligned residues\n",
    "aligned_residues = sum(1 for a, b in zip(best_alignment.aligned[0], best_alignment.aligned[1]) for _ in range(len(a)))\n",
    "\n",
    "# Calculate percentage of aligned residues\n",
    "total_residues = max(len(human_item[1]), len(dros_item[1]))\n",
    "percentage_aligned = (aligned_residues / total_residues) * 100\n",
    "\n",
    "# Print alignment and results\n",
    "print(\"Percentage identity: {:3.2f}%\".format(percentage_aligned))"
   ]
  },
  {
   "cell_type": "code",
   "execution_count": null,
   "metadata": {},
   "outputs": [],
   "source": [
    "print(aligner)"
   ]
  }
 ],
 "metadata": {
  "kernelspec": {
   "display_name": "Python 3 (ipykernel)",
   "language": "python",
   "name": "python3"
  },
  "language_info": {
   "codemirror_mode": {
    "name": "ipython",
    "version": 3
   },
   "file_extension": ".py",
   "mimetype": "text/x-python",
   "name": "python",
   "nbconvert_exporter": "python",
   "pygments_lexer": "ipython3",
   "version": "3.12.8"
  }
 },
 "nbformat": 4,
 "nbformat_minor": 4
}
